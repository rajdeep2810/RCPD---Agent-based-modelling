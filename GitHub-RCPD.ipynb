{
 "cells": [
  {
   "cell_type": "markdown",
   "metadata": {},
   "source": [
    "For **GRIM/TFT** *vs.* **All-D** \n",
    "\n",
    "(for other cases, we need to simply modify the energy matrix 'E', while the code structure remains the same)"
   ]
  },
  {
   "cell_type": "markdown",
   "metadata": {},
   "source": [
    "1. **Agent-based modelling** (plot of $\\mu^{ABM}$ vs *reward* $\\mathbb{R}$)"
   ]
  },
  {
   "cell_type": "code",
   "execution_count": null,
   "metadata": {},
   "outputs": [],
   "source": [
    "import numpy as np\n",
    "import matplotlib.pyplot as plt\n",
    "\n",
    "def magnetization(PU, a, T, beta, w):\n",
    "    m = []\n",
    "    T = 5.0; S = 0.0; P = 1.0\n",
    "    for R in PU:\n",
    "        E = [[-R/(1-w), -S -w*P/(1-w)], [-T - w*P/(1-w), -P/(1-w)]] \n",
    "        for k in range(800000):  \n",
    "            i = np.random.randint(len(a))  \n",
    "            p = np.random.rand()  \n",
    "            ΔE = E[a[i]][a[(i + 1) % len(a)]] - E[(a[i] + 1) % 2][a[(i + 1) % len(a)]]\n",
    "            if p <= (1 / (1 + np.exp(-beta * ΔE / T))):\n",
    "                a[i] = (a[i] + 1) % 2  \n",
    "        m.append((len(a) - 2 * np.sum(a)) / len(a))  \n",
    "    return m\n",
    "\n",
    "a = np.random.rand(1000)\n",
    "PU = np.linspace(1.0, 5.0, 1000)  \n",
    "for i in range(len(a)):\n",
    "    if a[i] < 0.5:\n",
    "        a[i] = 0\n",
    "    else:\n",
    "        a[i] = 1\n",
    "\n",
    "a = a.astype(int)  \n",
    "\n",
    "beta_values = [1.0, 2.0, 10.0]\n",
    "w_values = [0.9]\n",
    "\n",
    "filename = \"repeated-mag-var-w.csv\"     #saves the data in a .CSV file.\n",
    "with open(filename, 'w') as file:\n",
    "    file.write(\"PU,Beta,w,Magnetization\\n\")\n",
    "    for beta in beta_values:\n",
    "        for w in w_values:\n",
    "            m_values = magnetization(PU, a.copy(), T=1.0, beta=beta, w=w)\n",
    "            for i, PU_val in enumerate(PU):\n",
    "                file.write(f\"{PU_val},{beta},{w},{m_values[i]}\\n\")\n",
    "\n",
    "plt.figure(figsize=(10, 8))\n",
    "for beta in beta_values:\n",
    "    for w in w_values:\n",
    "        m_values = magnetization(PU, a.copy(), T=1.0, beta = beta, w = w)\n",
    "        plt.plot(PU, m_values, label=f'β = {beta}, $\\mathcal{{w}}$ = {w}', linewidth=\"2\")\n",
    "plt.xlabel('$\\mathbb{R}$', fontsize=35)\n",
    "plt.ylabel('$\\mu^{ABM}$', fontsize=35)\n",
    "plt.legend(fontsize=15, loc='lower right')\n",
    "plt.grid()\n",
    "plt.show()"
   ]
  },
  {
   "cell_type": "markdown",
   "metadata": {},
   "source": [
    "To replot from the .CSV file"
   ]
  },
  {
   "cell_type": "code",
   "execution_count": null,
   "metadata": {},
   "outputs": [],
   "source": [
    "import numpy as np\n",
    "import matplotlib.pyplot as plt\n",
    "\n",
    "data = np.loadtxt(\"repeated-mag-test.csv\", delimiter=',', skiprows=1)\n",
    "\n",
    "PU_values = np.unique(data[:, 0])\n",
    "beta_values = np.unique(data[:, 1])\n",
    "w_values = np.unique(data[:, 2])\n",
    "\n",
    "plt.figure(figsize=(7, 5))\n",
    "for beta in beta_values:\n",
    "    for w in w_values:\n",
    "        mask = (data[:, 1] == beta) & (data[:, 2] == w)\n",
    "        m_values = data[mask][:, 3]\n",
    "        plt.plot(PU_values, m_values, label=f'$\\mathbb{{T}} = 5.0$, $\\mathbb{{S}} = 0.0$, $\\mathbb{{P}} = 1.0$, β = {beta}, $\\mathcal{{w}}$ = 0.9', linewidth=\"1\")\n",
    "plt.xlabel('$\\mathbb{R}$', fontsize=35)\n",
    "plt.ylabel('$\\mu^{ABM}$', fontsize=35)\n",
    "plt.legend(fontsize=12, loc='lower right')\n",
    "plt.grid()\n",
    "plt.show()"
   ]
  },
  {
   "cell_type": "markdown",
   "metadata": {},
   "source": [
    "2. **Agent-based modelling** (plot of $\\mu^{ABM}$ vs *discount factor* $w$)"
   ]
  },
  {
   "cell_type": "code",
   "execution_count": null,
   "metadata": {},
   "outputs": [],
   "source": [
    "import numpy as np\n",
    "import matplotlib.pyplot as plt\n",
    "\n",
    "def magnetization(w_values, a, T, beta, R):\n",
    "    m = []\n",
    "    T = 5.0; S = 0.0; P = 1.0\n",
    "    for w in w_values:  \n",
    "        E = [[-R/(1-w), -S -w*P/(1-w)], [-T - w*P/(1-w), -P/(1-w)]]\n",
    "        for _ in range(500000):  \n",
    "            i = np.random.randint(len(a))  \n",
    "            p = np.random.rand()  \n",
    "            ΔE = E[a[i]][a[(i + 1) % len(a)]] - E[(a[i] + 1) % 2][a[(i + 1) % len(a)]]\n",
    "            if p <= (1 / (1 + np.exp(-beta * ΔE / T))):\n",
    "                a[i] = (a[i] + 1) % 2  \n",
    "        m.append((len(a) - 2 * np.sum(a)) / len(a))  \n",
    "    return m\n",
    "\n",
    "a = np.random.rand(1000)\n",
    "w_values = np.linspace(0, 0.999, 1000)\n",
    "for i in range(len(a)):\n",
    "    if a[i] < 0.5:\n",
    "        a[i] = 0\n",
    "    else:\n",
    "        a[i] = 1\n",
    "\n",
    "a = a.astype(int)  \n",
    "\n",
    "R_vals = [3.0]\n",
    "beta_values = [1.0, 2.0, 3.0]\n",
    "\n",
    "filename = \"repeated-mag-w.csv\"     #saves the data in a .CSV file\n",
    "with open(filename, 'w') as file:\n",
    "    file.write(\"w_values,Beta,R,Magnetization\\n\")\n",
    "    for beta in beta_values:\n",
    "        for R in R_vals:\n",
    "            m_values = magnetization(w_values, a.copy(), T=1.0, beta=beta, R=R)\n",
    "            for i, w_v in enumerate(w_values):\n",
    "                file.write(f\"{w_v},{beta},{R},{m_values[i]}\\n\")\n",
    "\n",
    "\n",
    "plt.figure(figsize=(10, 8))\n",
    "for beta in beta_values:\n",
    "    for R in R_vals:\n",
    "        m_values = magnetization(w_values, a.copy(), T=1.0, beta=beta, R=R)\n",
    "        plt.plot(w_values, m_values, label=f'β = {beta}', linewidth=\"2\")\n",
    "plt.xlabel('$\\mathcal{w}$', fontsize=35)\n",
    "plt.ylabel('$\\mu^{ABM}$', fontsize=35)\n",
    "plt.legend(fontsize=15, loc='lower right')\n",
    "plt.grid()\n",
    "plt.show()"
   ]
  },
  {
   "cell_type": "markdown",
   "metadata": {},
   "source": [
    "To replot from the .CSV file"
   ]
  },
  {
   "cell_type": "code",
   "execution_count": null,
   "metadata": {},
   "outputs": [],
   "source": [
    "import numpy as np\n",
    "import matplotlib.pyplot as plt\n",
    "import csv\n",
    "\n",
    "filename = \"repeated-mag-w.csv\"\n",
    "w_values = []\n",
    "beta_values = []\n",
    "R_values = []\n",
    "magnetization_values = []\n",
    "\n",
    "with open(filename, 'r') as file:\n",
    "    reader = csv.reader(file)\n",
    "    next(reader) \n",
    "    for row in reader:\n",
    "        w_values.append(float(row[0]))\n",
    "        beta_values.append(float(row[1]))\n",
    "        R_values.append(float(row[2]))\n",
    "        magnetization_values.append(float(row[3]))\n",
    "\n",
    "num_w = len(set(w_values))\n",
    "num_betas = len(set(beta_values))\n",
    "w_values = np.array(w_values).reshape(num_betas, num_w)\n",
    "magnetization_values = np.array(magnetization_values).reshape(num_betas, num_w)\n",
    "\n",
    "plt.figure(figsize=(7, 5))\n",
    "for i, beta in enumerate(set(beta_values)):\n",
    "    plt.plot(w_values[i], magnetization_values[i], label=f'$\\mathbb{{T}} = 5.0$, $\\mathbb{{R}} = 3.0$, $\\mathbb{{P}} = 1.0$, $\\mathbb{{S}} = 0.0$, β = {beta}', linewidth=1)\n",
    "\n",
    "plt.xlabel('$\\mathcal{w}$', fontsize=35)\n",
    "plt.ylabel('$\\mu^{ABM}$', fontsize=35)\n",
    "plt.legend(fontsize=11, loc='upper left')\n",
    "plt.grid()\n",
    "plt.show()"
   ]
  }
 ],
 "metadata": {
  "kernelspec": {
   "display_name": "Python 3",
   "language": "python",
   "name": "python3"
  },
  "language_info": {
   "codemirror_mode": {
    "name": "ipython",
    "version": 3
   },
   "file_extension": ".py",
   "mimetype": "text/x-python",
   "name": "python",
   "nbconvert_exporter": "python",
   "pygments_lexer": "ipython3",
   "version": "3.10.9"
  }
 },
 "nbformat": 4,
 "nbformat_minor": 2
}
